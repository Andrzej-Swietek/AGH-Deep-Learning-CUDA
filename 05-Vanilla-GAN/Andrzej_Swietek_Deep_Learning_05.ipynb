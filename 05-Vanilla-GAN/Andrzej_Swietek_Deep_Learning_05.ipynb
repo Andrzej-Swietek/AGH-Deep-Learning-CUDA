{
 "cells": [
  {
   "cell_type": "markdown",
   "metadata": {
    "id": "1lm2wBXyaxVW"
   },
   "source": [
    "# Implementation of Vanilla GANs model\n",
    "Reference: https://arxiv.org/pdf/1406.2661.pdf"
   ]
  },
  {
   "cell_type": "code",
   "execution_count": 28,
   "metadata": {
    "collapsed": true,
    "id": "bpYyr952axVX",
    "ExecuteTime": {
     "end_time": "2024-04-30T11:01:11.065685434Z",
     "start_time": "2024-04-30T11:01:10.911884924Z"
    }
   },
   "outputs": [],
   "source": [
    "# Note, this example concentrate on implementing the mechanics of the training process of GAN system\n",
    "# we use the most simple neural model - dense linear layers"
   ]
  },
  {
   "cell_type": "code",
   "execution_count": 29,
   "metadata": {
    "collapsed": true,
    "id": "09XikMsYaxVZ",
    "ExecuteTime": {
     "end_time": "2024-04-30T11:01:11.175643610Z",
     "start_time": "2024-04-30T11:01:10.915326618Z"
    }
   },
   "outputs": [],
   "source": [
    "import torch\n",
    "import torchvision\n",
    "import torch.nn as nn\n",
    "import torch.nn.functional as F"
   ]
  },
  {
   "cell_type": "code",
   "execution_count": 30,
   "metadata": {
    "collapsed": true,
    "id": "kbpFIvDUaxVZ",
    "ExecuteTime": {
     "end_time": "2024-04-30T11:01:11.206399695Z",
     "start_time": "2024-04-30T11:01:10.937129369Z"
    }
   },
   "outputs": [],
   "source": [
    "from torch.utils.data import DataLoader\n",
    "from torchvision import datasets\n",
    "from torchvision import transforms\n",
    "from torchvision.utils import save_image"
   ]
  },
  {
   "cell_type": "code",
   "execution_count": 31,
   "metadata": {
    "collapsed": true,
    "id": "EmfnUyIoaxVa",
    "ExecuteTime": {
     "end_time": "2024-04-30T11:01:11.219683941Z",
     "start_time": "2024-04-30T11:01:10.971827976Z"
    }
   },
   "outputs": [],
   "source": [
    "import numpy as np\n",
    "import datetime\n",
    "import os, sys"
   ]
  },
  {
   "cell_type": "code",
   "execution_count": 32,
   "metadata": {
    "collapsed": true,
    "id": "yyfYT7xKaxVa",
    "ExecuteTime": {
     "end_time": "2024-04-30T11:01:11.220646293Z",
     "start_time": "2024-04-30T11:01:10.971999134Z"
    }
   },
   "outputs": [],
   "source": [
    "from matplotlib.pyplot import imshow, imsave\n",
    "%matplotlib inline"
   ]
  },
  {
   "cell_type": "code",
   "execution_count": 33,
   "metadata": {
    "collapsed": true,
    "colab": {
     "base_uri": "https://localhost:8080/"
    },
    "id": "Yg3tGDcAaxVa",
    "outputId": "dbc0885d-65b7-4deb-8282-116639291b1f",
    "ExecuteTime": {
     "end_time": "2024-04-30T11:01:11.223701056Z",
     "start_time": "2024-04-30T11:01:10.972100374Z"
    }
   },
   "outputs": [
    {
     "name": "stdout",
     "output_type": "stream",
     "text": [
      "cuda\n"
     ]
    }
   ],
   "source": [
    "MODEL_NAME = 'vanilla-GAN-100-epoch-asymmetric-D<G'\n",
    "DEVICE = torch.device(\"cuda\" if torch.cuda.is_available() else \"cpu\")\n",
    "print(DEVICE)"
   ]
  },
  {
   "cell_type": "code",
   "execution_count": 34,
   "metadata": {
    "collapsed": true,
    "id": "KqiYaFFIaxVb",
    "ExecuteTime": {
     "end_time": "2024-04-30T11:01:11.226636654Z",
     "start_time": "2024-04-30T11:01:11.019828661Z"
    }
   },
   "outputs": [],
   "source": [
    "# generate a sample of fake images by sampling the noise\n",
    "def get_sample_image(G, n_noise):\n",
    "    z = torch.randn(100, n_noise).to(DEVICE)\n",
    "    y_hat = G(z).view(100, 28, 28) # (100, 28, 28)\n",
    "    result = y_hat.cpu().data.numpy()\n",
    "    img = np.zeros([280, 280])\n",
    "    for j in range(10):\n",
    "        img[j*28:(j+1)*28] = np.concatenate([x for x in result[j*10:(j+1)*10]], axis=-1)\n",
    "    return img"
   ]
  },
  {
   "cell_type": "code",
   "source": [
    "# generate a sample of fake images by sampling the noise and mark images discarded by discriminator as fakes with reversed colours\n",
    "def get_sample_image_with_discriminator_discards(G, D, n_noise):\n",
    "    G.eval()\n",
    "    D.eval()\n",
    "    z = torch.randn(100, n_noise).to(DEVICE)\n",
    "    x_star = G(z)\n",
    "    y_hat = x_star.view(100, 28, 28) # (100, 28, 28)\n",
    "    result = y_hat.cpu().data.numpy()\n",
    "    z_outputs = D(x_star)\n",
    "    predicted = z_outputs.round()\n",
    "    img_org = np.zeros([280, 280])\n",
    "    for j in range(10):\n",
    "        img_org[j*28:(j+1)*28] = np.concatenate([x for x in result[j*10:(j+1)*10]], axis=-1)\n",
    "    for k in range(len(predicted)):\n",
    "      if predicted[k] == 0.0:\n",
    "        for i in range(28):\n",
    "          for j in range(28):\n",
    "              result[k][i][j] *= -1\n",
    "    img = np.zeros([280, 280])\n",
    "    for j in range(10):\n",
    "        img[j*28:(j+1)*28] = np.concatenate([x for x in result[j*10:(j+1)*10]], axis=-1)\n",
    "    return img#, img_org"
   ],
   "metadata": {
    "id": "X2QPunQmruEP",
    "ExecuteTime": {
     "end_time": "2024-04-30T11:01:11.226844676Z",
     "start_time": "2024-04-30T11:01:11.019984661Z"
    }
   },
   "execution_count": 35,
   "outputs": []
  },
  {
   "cell_type": "markdown",
   "source": [
    "## Models\n",
    "\n",
    "- vanilla GAN- simplest possible fully connected model\n",
    "\n",
    "no convolutional layers and more complex stuff\n",
    "\n",
    "- DC GAN - Deep Convolutional GAN"
   ],
   "metadata": {
    "id": "SLspIww3aXeW"
   }
  },
  {
   "cell_type": "code",
   "execution_count": 36,
   "metadata": {
    "collapsed": true,
    "id": "_O-RRuqdaxVb",
    "ExecuteTime": {
     "end_time": "2024-04-30T11:01:11.226995009Z",
     "start_time": "2024-04-30T11:01:11.020077674Z"
    }
   },
   "outputs": [],
   "source": [
    "class Discriminator(nn.Module):\n",
    "    def __init__(self, input_size=784, num_classes=1):\n",
    "        super(Discriminator, self).__init__()\n",
    "        self.layer = nn.Sequential(\n",
    "            nn.Linear(input_size, 512),\n",
    "            nn.LeakyReLU(0.2),\n",
    "            nn.Linear(512, 256),\n",
    "            nn.LeakyReLU(0.2),\n",
    "            nn.Linear(256, num_classes),\n",
    "            nn.Sigmoid(),\n",
    "        )\n",
    "\n",
    "    def forward(self, x):\n",
    "        y_ = x.view(x.size(0), -1)\n",
    "        y_ = self.layer(y_)\n",
    "        return y_"
   ]
  },
  {
   "cell_type": "code",
   "execution_count": 37,
   "metadata": {
    "collapsed": true,
    "id": "DMJhZhTOaxVc",
    "ExecuteTime": {
     "end_time": "2024-04-30T11:01:11.227094741Z",
     "start_time": "2024-04-30T11:01:11.020152757Z"
    }
   },
   "outputs": [],
   "source": [
    "class Generator(nn.Module):\n",
    "    def __init__(self, input_size=100, num_classes=784):\n",
    "        super(Generator, self).__init__()\n",
    "        self.layer = nn.Sequential(\n",
    "            nn.Linear(input_size, 128),\n",
    "            nn.LeakyReLU(0.2),\n",
    "            nn.Linear(128, 256),\n",
    "            nn.BatchNorm1d(256),\n",
    "            nn.LeakyReLU(0.2),\n",
    "            nn.Linear(256, 512),\n",
    "            nn.BatchNorm1d(512),\n",
    "            nn.LeakyReLU(0.2),\n",
    "            nn.Linear(512, 1024),\n",
    "            nn.BatchNorm1d(1024),\n",
    "            nn.LeakyReLU(0.2),\n",
    "            nn.Linear(1024, num_classes),\n",
    "            nn.Tanh()\n",
    "        )\n",
    "\n",
    "    def forward(self, x):\n",
    "        y_ = self.layer(x)\n",
    "        y_ = y_.view(x.size(0), 1, 28, 28)\n",
    "        return y_"
   ]
  },
  {
   "cell_type": "code",
   "execution_count": 38,
   "metadata": {
    "collapsed": true,
    "id": "6E9vMds3axVc",
    "ExecuteTime": {
     "end_time": "2024-04-30T11:01:11.237546403Z",
     "start_time": "2024-04-30T11:01:11.026002416Z"
    }
   },
   "outputs": [],
   "source": [
    "n_noise = 100"
   ]
  },
  {
   "cell_type": "markdown",
   "source": [
    "## Sending to CUDA\n",
    "\n",
    "if available"
   ],
   "metadata": {
    "id": "R0ExPoBhZakX"
   }
  },
  {
   "cell_type": "code",
   "execution_count": 39,
   "metadata": {
    "collapsed": true,
    "id": "wvHhp-XAaxVd",
    "ExecuteTime": {
     "end_time": "2024-04-30T11:01:11.251250857Z",
     "start_time": "2024-04-30T11:01:11.067860754Z"
    }
   },
   "outputs": [],
   "source": [
    "D = Discriminator().to(DEVICE)\n",
    "G = Generator(n_noise).to(DEVICE)"
   ]
  },
  {
   "cell_type": "markdown",
   "source": [
    "## Transforming and loading dataset"
   ],
   "metadata": {
    "id": "tRcqF1JgZkLF"
   }
  },
  {
   "cell_type": "code",
   "execution_count": 40,
   "metadata": {
    "collapsed": true,
    "id": "PGVm8SecaxVd",
    "ExecuteTime": {
     "end_time": "2024-04-30T11:01:11.251575618Z",
     "start_time": "2024-04-30T11:01:11.072211041Z"
    }
   },
   "outputs": [],
   "source": [
    "transform = transforms.Compose([transforms.ToTensor(),\n",
    "                                transforms.Normalize(mean=[0.5],\n",
    "                                std=[0.5])]\n",
    ")"
   ]
  },
  {
   "cell_type": "code",
   "execution_count": 41,
   "metadata": {
    "collapsed": true,
    "id": "M1x5CloeaxVe",
    "ExecuteTime": {
     "end_time": "2024-04-30T11:01:11.251708126Z",
     "start_time": "2024-04-30T11:01:11.115870433Z"
    }
   },
   "outputs": [],
   "source": [
    "mnist = datasets.MNIST(root='../data/', train=True, transform=transform, download=True)"
   ]
  },
  {
   "cell_type": "code",
   "execution_count": 42,
   "metadata": {
    "collapsed": true,
    "id": "ZvkbKPm9axVe",
    "ExecuteTime": {
     "end_time": "2024-04-30T11:01:11.251990852Z",
     "start_time": "2024-04-30T11:01:11.118277986Z"
    }
   },
   "outputs": [],
   "source": [
    "batch_size = 64\n",
    "# batch_size = 128\n",
    "# batch_size = 32"
   ]
  },
  {
   "cell_type": "code",
   "execution_count": 43,
   "metadata": {
    "collapsed": true,
    "id": "trHtwrnSaxVe",
    "ExecuteTime": {
     "end_time": "2024-04-30T11:01:11.252120289Z",
     "start_time": "2024-04-30T11:01:11.159890599Z"
    }
   },
   "outputs": [],
   "source": [
    "data_loader = DataLoader(dataset=mnist, batch_size=batch_size, shuffle=True, drop_last=True)"
   ]
  },
  {
   "cell_type": "markdown",
   "source": [
    "## Optimization function\n",
    "\n",
    "BCE Loss - Binary Crossentropy"
   ],
   "metadata": {
    "id": "h62xPTMiZq4S"
   }
  },
  {
   "cell_type": "code",
   "execution_count": 44,
   "metadata": {
    "collapsed": true,
    "id": "8rPKvPnjaxVe",
    "ExecuteTime": {
     "end_time": "2024-04-30T11:01:11.252221305Z",
     "start_time": "2024-04-30T11:01:11.160096285Z"
    }
   },
   "outputs": [],
   "source": [
    "criterion = nn.BCELoss()\n",
    "D_opt = torch.optim.Adam(D.parameters(), lr=0.0002, betas=(0.5, 0.999)) # lr normalnie jest ok 10^-6\n",
    "#D_opt = torch.optim.Adam(D.parameters(), lr=0.000002, betas=(0.5, 0.999)) # SUPER SUPER BAD NOOOISE\n",
    "# D_opt = torch.optim.Adam(D.parameters(), lr=0.002, betas=(0.5, 0.999)) # Quite good\n",
    "\n",
    "#G_opt = torch.optim.Adam(G.parameters(), lr=0.0002, betas=(0.5, 0.999)) # <-- default\n",
    "# G_opt = torch.optim.Adam(G.parameters(), lr=0.0005, betas=(0.5, 0.999)) # kinda good ish some noise but u can tell the numbers\n",
    "G_opt = torch.optim.Adam(G.parameters(), lr=0.002, betas=(0.5, 0.999)) # Quite good"
   ]
  },
  {
   "cell_type": "markdown",
   "source": [
    "## Deiscriminator and Generator params:\n",
    "- epochs\n",
    "- step\n",
    "- n_critic - how many epochs of Discriminator should happen for one epoch of generator"
   ],
   "metadata": {
    "id": "mjgssvlZZ3ec"
   }
  },
  {
   "cell_type": "code",
   "execution_count": 45,
   "metadata": {
    "collapsed": true,
    "id": "m7u8B-UyaxVe",
    "ExecuteTime": {
     "end_time": "2024-04-30T11:01:11.252323569Z",
     "start_time": "2024-04-30T11:01:11.160244356Z"
    }
   },
   "outputs": [],
   "source": [
    "# max_epoch = 20 # you should train at least for 10 - 15 epochs\n",
    "# step = 0\n",
    "# n_critic = 1 # for training more k steps about Discriminator\n",
    "\n",
    "# max_epoch = 1 # you should train at least for 10 - 15 epochs ---- Kinda Generator lost performance\n",
    "# step = 0\n",
    "# n_critic = 2 # for training more k steps about Discriminator\n",
    "\n",
    "# max_epoch = 5 # you should train at least for 10 - 15 epochs ---- Noice was removed from background but stil not so good\n",
    "# step = 0\n",
    "# n_critic = 5 # for training more k steps about Discriminator\n",
    "\n",
    "# max_epoch = 5 # you should train at least for 10 - 15 epochs ---- Better than prevous one - no revelation though\n",
    "# step = 0\n",
    "# n_critic = 1 # for training more k steps about Discriminator\n",
    "\n",
    "# max_epoch = 25 # you should train at least for 10 - 15 epochs ---- Much metter but still noice\n",
    "# step = 0\n",
    "# n_critic = 1 # for training more k steps about Discriminator\n",
    "\n",
    "# max_epoch = 15 # you should train at least for 10 - 15 epochs ----  Quite ok\n",
    "# step = 0\n",
    "# n_critic = 1 # for training more k steps about Discriminator\n",
    "\n",
    "max_epoch = 100 # you should train at least for 10 - 15 epochs ----  Quite ok\n",
    "step = 0\n",
    "n_critic = 1 # for training more k steps about Discriminator"
   ]
  },
  {
   "cell_type": "code",
   "execution_count": 46,
   "metadata": {
    "collapsed": true,
    "id": "KwXFVB4iaxVf",
    "ExecuteTime": {
     "end_time": "2024-04-30T11:01:11.252423672Z",
     "start_time": "2024-04-30T11:01:11.160425715Z"
    }
   },
   "outputs": [],
   "source": [
    "D_labels = torch.ones(batch_size, 1).to(DEVICE) # Discriminator Label to real\n",
    "D_fakes = torch.zeros(batch_size, 1).to(DEVICE) # Discriminator Label to fake"
   ]
  },
  {
   "cell_type": "code",
   "execution_count": 47,
   "metadata": {
    "collapsed": true,
    "id": "B4H4t3IhaxVf",
    "ExecuteTime": {
     "end_time": "2024-04-30T11:01:11.305550026Z",
     "start_time": "2024-04-30T11:01:11.170211285Z"
    }
   },
   "outputs": [],
   "source": [
    "if not os.path.exists('samples'):\n",
    "    os.makedirs('samples')"
   ]
  },
  {
   "cell_type": "code",
   "execution_count": 48,
   "metadata": {
    "scrolled": true,
    "colab": {
     "base_uri": "https://localhost:8080/"
    },
    "id": "l9T1uip5axVf",
    "outputId": "2dc882bc-2294-4369-c732-7131e5f8825b",
    "ExecuteTime": {
     "end_time": "2024-04-30T11:19:24.517875656Z",
     "start_time": "2024-04-30T11:01:11.211943929Z"
    }
   },
   "outputs": [
    {
     "name": "stdout",
     "output_type": "stream",
     "text": [
      "Epoch: 0/100, Step: 0, D Loss: 1.3300423622131348, G Loss: 0.6595546007156372\n",
      "Epoch: 0/100, Step: 500, D Loss: 1.294144630432129, G Loss: 1.04182767868042\n",
      "Epoch: 1/100, Step: 1000, D Loss: 1.3393337726593018, G Loss: 0.7439210414886475\n",
      "Epoch: 1/100, Step: 1500, D Loss: 1.3171565532684326, G Loss: 0.7790349721908569\n",
      "Epoch: 2/100, Step: 2000, D Loss: 1.3303394317626953, G Loss: 0.7716820240020752\n",
      "Epoch: 2/100, Step: 2500, D Loss: 1.288435935974121, G Loss: 0.9232640266418457\n",
      "Epoch: 3/100, Step: 3000, D Loss: 1.359140157699585, G Loss: 0.7473633289337158\n",
      "Epoch: 3/100, Step: 3500, D Loss: 1.2738375663757324, G Loss: 0.893177330493927\n",
      "Epoch: 4/100, Step: 4000, D Loss: 1.3077447414398193, G Loss: 0.8785634636878967\n",
      "Epoch: 4/100, Step: 4500, D Loss: 1.2976707220077515, G Loss: 0.924789547920227\n",
      "Epoch: 5/100, Step: 5000, D Loss: 1.3188083171844482, G Loss: 1.0914548635482788\n",
      "Epoch: 5/100, Step: 5500, D Loss: 1.4103584289550781, G Loss: 0.7724709510803223\n",
      "Epoch: 6/100, Step: 6000, D Loss: 1.2987581491470337, G Loss: 0.5738042593002319\n",
      "Epoch: 6/100, Step: 6500, D Loss: 1.2507894039154053, G Loss: 0.8366090655326843\n",
      "Epoch: 7/100, Step: 7000, D Loss: 1.2580418586730957, G Loss: 0.7632479667663574\n",
      "Epoch: 8/100, Step: 7500, D Loss: 1.3463754653930664, G Loss: 0.6918849349021912\n",
      "Epoch: 8/100, Step: 8000, D Loss: 1.2809903621673584, G Loss: 0.713402271270752\n",
      "Epoch: 9/100, Step: 8500, D Loss: 1.2648051977157593, G Loss: 0.8744897842407227\n",
      "Epoch: 9/100, Step: 9000, D Loss: 1.321687936782837, G Loss: 0.8966439962387085\n",
      "Epoch: 10/100, Step: 9500, D Loss: 1.3005003929138184, G Loss: 0.9703229665756226\n",
      "Epoch: 10/100, Step: 10000, D Loss: 1.336944341659546, G Loss: 0.7711777687072754\n",
      "Epoch: 11/100, Step: 10500, D Loss: 1.3552820682525635, G Loss: 0.8821719884872437\n",
      "Epoch: 11/100, Step: 11000, D Loss: 1.3496181964874268, G Loss: 0.8298741579055786\n",
      "Epoch: 12/100, Step: 11500, D Loss: 1.2703421115875244, G Loss: 0.8796130418777466\n",
      "Epoch: 12/100, Step: 12000, D Loss: 1.2096853256225586, G Loss: 0.8152831792831421\n",
      "Epoch: 13/100, Step: 12500, D Loss: 1.2704148292541504, G Loss: 0.8098651766777039\n",
      "Epoch: 13/100, Step: 13000, D Loss: 1.405281662940979, G Loss: 0.5713168382644653\n",
      "Epoch: 14/100, Step: 13500, D Loss: 1.2924420833587646, G Loss: 0.9172208309173584\n",
      "Epoch: 14/100, Step: 14000, D Loss: 1.3329230546951294, G Loss: 0.9261137247085571\n",
      "Epoch: 15/100, Step: 14500, D Loss: 1.3228533267974854, G Loss: 0.9524506330490112\n",
      "Epoch: 16/100, Step: 15000, D Loss: 1.3552049398422241, G Loss: 0.7521215677261353\n",
      "Epoch: 16/100, Step: 15500, D Loss: 1.2662079334259033, G Loss: 0.7939459085464478\n",
      "Epoch: 17/100, Step: 16000, D Loss: 1.3291497230529785, G Loss: 0.9204626679420471\n",
      "Epoch: 17/100, Step: 16500, D Loss: 1.2888848781585693, G Loss: 0.8401134014129639\n",
      "Epoch: 18/100, Step: 17000, D Loss: 1.2847522497177124, G Loss: 0.8351417779922485\n",
      "Epoch: 18/100, Step: 17500, D Loss: 1.2904939651489258, G Loss: 0.8298935890197754\n",
      "Epoch: 19/100, Step: 18000, D Loss: 1.2346546649932861, G Loss: 0.9159318208694458\n",
      "Epoch: 19/100, Step: 18500, D Loss: 1.2134093046188354, G Loss: 0.8565977811813354\n",
      "Epoch: 20/100, Step: 19000, D Loss: 1.3243215084075928, G Loss: 0.7689003348350525\n",
      "Epoch: 20/100, Step: 19500, D Loss: 1.345604658126831, G Loss: 0.9227278232574463\n",
      "Epoch: 21/100, Step: 20000, D Loss: 1.293149471282959, G Loss: 0.7746378183364868\n",
      "Epoch: 21/100, Step: 20500, D Loss: 1.3006587028503418, G Loss: 0.7470669746398926\n",
      "Epoch: 22/100, Step: 21000, D Loss: 1.3394290208816528, G Loss: 0.8164635896682739\n",
      "Epoch: 22/100, Step: 21500, D Loss: 1.3159830570220947, G Loss: 0.7272173166275024\n",
      "Epoch: 23/100, Step: 22000, D Loss: 1.27426016330719, G Loss: 1.0354797840118408\n",
      "Epoch: 24/100, Step: 22500, D Loss: 1.2323776483535767, G Loss: 1.0497082471847534\n",
      "Epoch: 24/100, Step: 23000, D Loss: 1.3239624500274658, G Loss: 0.8486474752426147\n",
      "Epoch: 25/100, Step: 23500, D Loss: 1.2805442810058594, G Loss: 1.170775055885315\n",
      "Epoch: 25/100, Step: 24000, D Loss: 1.2804725170135498, G Loss: 0.7937263250350952\n",
      "Epoch: 26/100, Step: 24500, D Loss: 1.3650035858154297, G Loss: 0.7584957480430603\n",
      "Epoch: 26/100, Step: 25000, D Loss: 1.3102514743804932, G Loss: 0.8817293643951416\n",
      "Epoch: 27/100, Step: 25500, D Loss: 1.291455864906311, G Loss: 0.9045978784561157\n",
      "Epoch: 27/100, Step: 26000, D Loss: 1.2705943584442139, G Loss: 0.9218125343322754\n",
      "Epoch: 28/100, Step: 26500, D Loss: 1.2835086584091187, G Loss: 1.3081743717193604\n",
      "Epoch: 28/100, Step: 27000, D Loss: 1.348482370376587, G Loss: 0.6012692451477051\n",
      "Epoch: 29/100, Step: 27500, D Loss: 1.2146937847137451, G Loss: 0.9340324997901917\n",
      "Epoch: 29/100, Step: 28000, D Loss: 1.2886234521865845, G Loss: 0.9195171594619751\n",
      "Epoch: 30/100, Step: 28500, D Loss: 1.2105721235275269, G Loss: 0.8968887329101562\n",
      "Epoch: 30/100, Step: 29000, D Loss: 1.2131160497665405, G Loss: 0.9818623065948486\n",
      "Epoch: 31/100, Step: 29500, D Loss: 1.355396032333374, G Loss: 0.910209596157074\n",
      "Epoch: 32/100, Step: 30000, D Loss: 1.2431007623672485, G Loss: 0.9814111590385437\n",
      "Epoch: 32/100, Step: 30500, D Loss: 1.2705795764923096, G Loss: 0.8748781681060791\n",
      "Epoch: 33/100, Step: 31000, D Loss: 1.2369475364685059, G Loss: 0.9453217387199402\n",
      "Epoch: 33/100, Step: 31500, D Loss: 1.251415729522705, G Loss: 0.8592703342437744\n",
      "Epoch: 34/100, Step: 32000, D Loss: 1.3223299980163574, G Loss: 0.7136820554733276\n",
      "Epoch: 34/100, Step: 32500, D Loss: 1.3138974905014038, G Loss: 1.1984498500823975\n",
      "Epoch: 35/100, Step: 33000, D Loss: 1.2393126487731934, G Loss: 0.9086567163467407\n",
      "Epoch: 35/100, Step: 33500, D Loss: 1.2377684116363525, G Loss: 0.9731684327125549\n",
      "Epoch: 36/100, Step: 34000, D Loss: 1.319036841392517, G Loss: 0.7250442504882812\n",
      "Epoch: 36/100, Step: 34500, D Loss: 1.2757357358932495, G Loss: 0.9960354566574097\n",
      "Epoch: 37/100, Step: 35000, D Loss: 1.165053367614746, G Loss: 0.7493570446968079\n",
      "Epoch: 37/100, Step: 35500, D Loss: 1.3069146871566772, G Loss: 0.973928689956665\n",
      "Epoch: 38/100, Step: 36000, D Loss: 1.3042893409729004, G Loss: 0.8747938275337219\n",
      "Epoch: 38/100, Step: 36500, D Loss: 1.2448227405548096, G Loss: 1.0817724466323853\n",
      "Epoch: 39/100, Step: 37000, D Loss: 1.3579611778259277, G Loss: 0.9418150186538696\n",
      "Epoch: 40/100, Step: 37500, D Loss: 1.2904043197631836, G Loss: 0.7181364297866821\n",
      "Epoch: 40/100, Step: 38000, D Loss: 1.2389044761657715, G Loss: 0.9736073017120361\n",
      "Epoch: 41/100, Step: 38500, D Loss: 1.2527531385421753, G Loss: 0.7928774356842041\n",
      "Epoch: 41/100, Step: 39000, D Loss: 1.1820340156555176, G Loss: 0.8148423433303833\n",
      "Epoch: 42/100, Step: 39500, D Loss: 1.2770121097564697, G Loss: 0.8276833891868591\n",
      "Epoch: 42/100, Step: 40000, D Loss: 1.2332481145858765, G Loss: 0.9661421775817871\n",
      "Epoch: 43/100, Step: 40500, D Loss: 1.2488435506820679, G Loss: 0.8234410285949707\n",
      "Epoch: 43/100, Step: 41000, D Loss: 1.2252064943313599, G Loss: 0.6782948970794678\n",
      "Epoch: 44/100, Step: 41500, D Loss: 1.2398815155029297, G Loss: 0.9016000032424927\n",
      "Epoch: 44/100, Step: 42000, D Loss: 1.2053009271621704, G Loss: 1.0495465993881226\n",
      "Epoch: 45/100, Step: 42500, D Loss: 1.2497398853302002, G Loss: 1.124155044555664\n",
      "Epoch: 45/100, Step: 43000, D Loss: 1.1588345766067505, G Loss: 1.0043426752090454\n",
      "Epoch: 46/100, Step: 43500, D Loss: 1.1910196542739868, G Loss: 0.9626911878585815\n",
      "Epoch: 46/100, Step: 44000, D Loss: 1.185016393661499, G Loss: 0.9913846850395203\n",
      "Epoch: 47/100, Step: 44500, D Loss: 1.2191064357757568, G Loss: 1.149031639099121\n",
      "Epoch: 48/100, Step: 45000, D Loss: 1.2402048110961914, G Loss: 0.6917909383773804\n",
      "Epoch: 48/100, Step: 45500, D Loss: 1.1779556274414062, G Loss: 1.1339472532272339\n",
      "Epoch: 49/100, Step: 46000, D Loss: 1.188029408454895, G Loss: 1.010816216468811\n",
      "Epoch: 49/100, Step: 46500, D Loss: 1.2518863677978516, G Loss: 0.8284728527069092\n",
      "Epoch: 50/100, Step: 47000, D Loss: 1.1696746349334717, G Loss: 0.681282103061676\n",
      "Epoch: 50/100, Step: 47500, D Loss: 1.2249947786331177, G Loss: 1.0253161191940308\n",
      "Epoch: 51/100, Step: 48000, D Loss: 1.1879255771636963, G Loss: 0.8638782501220703\n",
      "Epoch: 51/100, Step: 48500, D Loss: 1.1952171325683594, G Loss: 0.9553589820861816\n",
      "Epoch: 52/100, Step: 49000, D Loss: 1.2512693405151367, G Loss: 1.2140395641326904\n",
      "Epoch: 52/100, Step: 49500, D Loss: 1.2079476118087769, G Loss: 1.1082966327667236\n",
      "Epoch: 53/100, Step: 50000, D Loss: 1.1353100538253784, G Loss: 0.8507638573646545\n",
      "Epoch: 53/100, Step: 50500, D Loss: 1.1661250591278076, G Loss: 1.1254363059997559\n",
      "Epoch: 54/100, Step: 51000, D Loss: 1.2465240955352783, G Loss: 1.1004310846328735\n",
      "Epoch: 54/100, Step: 51500, D Loss: 1.1712535619735718, G Loss: 1.1444321870803833\n",
      "Epoch: 55/100, Step: 52000, D Loss: 1.3667963743209839, G Loss: 1.12752366065979\n",
      "Epoch: 56/100, Step: 52500, D Loss: 1.1763813495635986, G Loss: 0.7129735946655273\n",
      "Epoch: 56/100, Step: 53000, D Loss: 1.2026145458221436, G Loss: 0.7927868366241455\n",
      "Epoch: 57/100, Step: 53500, D Loss: 1.2387453317642212, G Loss: 0.9304757118225098\n",
      "Epoch: 57/100, Step: 54000, D Loss: 1.124974012374878, G Loss: 0.9781592488288879\n",
      "Epoch: 58/100, Step: 54500, D Loss: 1.1676609516143799, G Loss: 1.2031573057174683\n",
      "Epoch: 58/100, Step: 55000, D Loss: 1.1940340995788574, G Loss: 0.9016681909561157\n",
      "Epoch: 59/100, Step: 55500, D Loss: 1.2765625715255737, G Loss: 0.7586405277252197\n",
      "Epoch: 59/100, Step: 56000, D Loss: 1.2155683040618896, G Loss: 1.2438645362854004\n",
      "Epoch: 60/100, Step: 56500, D Loss: 1.2658495903015137, G Loss: 1.4461946487426758\n",
      "Epoch: 60/100, Step: 57000, D Loss: 1.2011497020721436, G Loss: 1.3057811260223389\n",
      "Epoch: 61/100, Step: 57500, D Loss: 1.1770399808883667, G Loss: 0.9774757623672485\n",
      "Epoch: 61/100, Step: 58000, D Loss: 1.2945151329040527, G Loss: 0.9291576743125916\n",
      "Epoch: 62/100, Step: 58500, D Loss: 1.234452724456787, G Loss: 0.9007962346076965\n",
      "Epoch: 62/100, Step: 59000, D Loss: 1.2355812788009644, G Loss: 0.783393144607544\n",
      "Epoch: 63/100, Step: 59500, D Loss: 1.1519811153411865, G Loss: 1.0144448280334473\n",
      "Epoch: 64/100, Step: 60000, D Loss: 1.105764389038086, G Loss: 1.0020934343338013\n",
      "Epoch: 64/100, Step: 60500, D Loss: 1.1787950992584229, G Loss: 1.0528168678283691\n",
      "Epoch: 65/100, Step: 61000, D Loss: 1.1534972190856934, G Loss: 1.3563263416290283\n",
      "Epoch: 65/100, Step: 61500, D Loss: 1.1663753986358643, G Loss: 1.1424498558044434\n",
      "Epoch: 66/100, Step: 62000, D Loss: 1.12248694896698, G Loss: 0.6908645629882812\n",
      "Epoch: 66/100, Step: 62500, D Loss: 1.169849157333374, G Loss: 0.9040223956108093\n",
      "Epoch: 67/100, Step: 63000, D Loss: 1.2905704975128174, G Loss: 0.8118197321891785\n",
      "Epoch: 67/100, Step: 63500, D Loss: 1.2672183513641357, G Loss: 0.5728254318237305\n",
      "Epoch: 68/100, Step: 64000, D Loss: 1.0750913619995117, G Loss: 0.9387140274047852\n",
      "Epoch: 68/100, Step: 64500, D Loss: 1.1666514873504639, G Loss: 1.0402963161468506\n",
      "Epoch: 69/100, Step: 65000, D Loss: 1.1339664459228516, G Loss: 1.0188957452774048\n",
      "Epoch: 69/100, Step: 65500, D Loss: 1.0633362531661987, G Loss: 0.910705029964447\n",
      "Epoch: 70/100, Step: 66000, D Loss: 1.2124955654144287, G Loss: 0.9861977696418762\n",
      "Epoch: 70/100, Step: 66500, D Loss: 1.1378281116485596, G Loss: 0.8405724167823792\n",
      "Epoch: 71/100, Step: 67000, D Loss: 1.1328256130218506, G Loss: 1.1128580570220947\n",
      "Epoch: 72/100, Step: 67500, D Loss: 1.1370806694030762, G Loss: 1.2279596328735352\n",
      "Epoch: 72/100, Step: 68000, D Loss: 1.1341415643692017, G Loss: 1.2091189622879028\n",
      "Epoch: 73/100, Step: 68500, D Loss: 1.2317314147949219, G Loss: 1.3820092678070068\n",
      "Epoch: 73/100, Step: 69000, D Loss: 1.0967973470687866, G Loss: 0.8494579195976257\n",
      "Epoch: 74/100, Step: 69500, D Loss: 1.2113687992095947, G Loss: 0.965724527835846\n",
      "Epoch: 74/100, Step: 70000, D Loss: 1.1453099250793457, G Loss: 0.8600390553474426\n",
      "Epoch: 75/100, Step: 70500, D Loss: 1.0696678161621094, G Loss: 1.2266327142715454\n",
      "Epoch: 75/100, Step: 71000, D Loss: 1.2110084295272827, G Loss: 0.986629068851471\n",
      "Epoch: 76/100, Step: 71500, D Loss: 1.2268891334533691, G Loss: 1.2104644775390625\n",
      "Epoch: 76/100, Step: 72000, D Loss: 1.182447910308838, G Loss: 1.1829164028167725\n",
      "Epoch: 77/100, Step: 72500, D Loss: 1.2662327289581299, G Loss: 1.1214323043823242\n",
      "Epoch: 77/100, Step: 73000, D Loss: 1.092599630355835, G Loss: 1.4352967739105225\n",
      "Epoch: 78/100, Step: 73500, D Loss: 1.2592092752456665, G Loss: 1.3526875972747803\n",
      "Epoch: 78/100, Step: 74000, D Loss: 1.1913012266159058, G Loss: 1.3235242366790771\n",
      "Epoch: 79/100, Step: 74500, D Loss: 1.1111713647842407, G Loss: 1.145190954208374\n",
      "Epoch: 80/100, Step: 75000, D Loss: 1.193466305732727, G Loss: 1.1312429904937744\n",
      "Epoch: 80/100, Step: 75500, D Loss: 1.2452824115753174, G Loss: 1.4920117855072021\n",
      "Epoch: 81/100, Step: 76000, D Loss: 1.0883145332336426, G Loss: 1.336798906326294\n",
      "Epoch: 81/100, Step: 76500, D Loss: 1.1613763570785522, G Loss: 1.0999585390090942\n",
      "Epoch: 82/100, Step: 77000, D Loss: 1.2141876220703125, G Loss: 0.8034559488296509\n",
      "Epoch: 82/100, Step: 77500, D Loss: 1.0872318744659424, G Loss: 1.1631625890731812\n",
      "Epoch: 83/100, Step: 78000, D Loss: 1.1614375114440918, G Loss: 0.9395231008529663\n",
      "Epoch: 83/100, Step: 78500, D Loss: 1.2741484642028809, G Loss: 0.9529434442520142\n",
      "Epoch: 84/100, Step: 79000, D Loss: 1.0974421501159668, G Loss: 1.3334325551986694\n",
      "Epoch: 84/100, Step: 79500, D Loss: 1.1164259910583496, G Loss: 0.8217526078224182\n",
      "Epoch: 85/100, Step: 80000, D Loss: 1.197641134262085, G Loss: 1.2304422855377197\n",
      "Epoch: 85/100, Step: 80500, D Loss: 1.3692162036895752, G Loss: 0.6309739351272583\n",
      "Epoch: 86/100, Step: 81000, D Loss: 1.2182368040084839, G Loss: 0.9108220338821411\n",
      "Epoch: 86/100, Step: 81500, D Loss: 1.0710105895996094, G Loss: 1.2805352210998535\n",
      "Epoch: 87/100, Step: 82000, D Loss: 1.1815255880355835, G Loss: 0.9090287089347839\n",
      "Epoch: 88/100, Step: 82500, D Loss: 1.0949733257293701, G Loss: 1.1321258544921875\n",
      "Epoch: 88/100, Step: 83000, D Loss: 1.1396942138671875, G Loss: 0.8492960929870605\n",
      "Epoch: 89/100, Step: 83500, D Loss: 0.9982917308807373, G Loss: 1.1980304718017578\n",
      "Epoch: 89/100, Step: 84000, D Loss: 1.1851310729980469, G Loss: 1.1658868789672852\n",
      "Epoch: 90/100, Step: 84500, D Loss: 1.197995901107788, G Loss: 0.8610575795173645\n",
      "Epoch: 90/100, Step: 85000, D Loss: 1.1960277557373047, G Loss: 0.6452666521072388\n",
      "Epoch: 91/100, Step: 85500, D Loss: 1.127909779548645, G Loss: 1.1233972311019897\n",
      "Epoch: 91/100, Step: 86000, D Loss: 1.0940253734588623, G Loss: 1.168196439743042\n",
      "Epoch: 92/100, Step: 86500, D Loss: 1.0934650897979736, G Loss: 1.3444066047668457\n",
      "Epoch: 92/100, Step: 87000, D Loss: 1.1338506937026978, G Loss: 1.2441840171813965\n",
      "Epoch: 93/100, Step: 87500, D Loss: 1.2172917127609253, G Loss: 0.8856804966926575\n",
      "Epoch: 93/100, Step: 88000, D Loss: 1.114040732383728, G Loss: 0.9056488275527954\n",
      "Epoch: 94/100, Step: 88500, D Loss: 1.1518625020980835, G Loss: 1.1723848581314087\n",
      "Epoch: 94/100, Step: 89000, D Loss: 1.3011384010314941, G Loss: 1.3738601207733154\n",
      "Epoch: 95/100, Step: 89500, D Loss: 1.1982476711273193, G Loss: 1.3107019662857056\n",
      "Epoch: 96/100, Step: 90000, D Loss: 1.289848804473877, G Loss: 0.885577917098999\n",
      "Epoch: 96/100, Step: 90500, D Loss: 1.1650922298431396, G Loss: 1.155970573425293\n",
      "Epoch: 97/100, Step: 91000, D Loss: 1.1921504735946655, G Loss: 1.0383899211883545\n",
      "Epoch: 97/100, Step: 91500, D Loss: 1.0878610610961914, G Loss: 1.2600445747375488\n",
      "Epoch: 98/100, Step: 92000, D Loss: 1.0623466968536377, G Loss: 1.4057682752609253\n",
      "Epoch: 98/100, Step: 92500, D Loss: 1.0410029888153076, G Loss: 0.8890715837478638\n",
      "Epoch: 99/100, Step: 93000, D Loss: 1.1410017013549805, G Loss: 1.0864217281341553\n",
      "Epoch: 99/100, Step: 93500, D Loss: 1.1175438165664673, G Loss: 1.3784904479980469\n"
     ]
    }
   ],
   "source": [
    "for epoch in range(max_epoch):\n",
    "    for idx, (images, _) in enumerate(data_loader):\n",
    "        # Training Discriminator\n",
    "        x = images.to(DEVICE)\n",
    "        x_outputs = D(x)\n",
    "        D_x_loss = criterion(x_outputs, D_labels)\n",
    "\n",
    "        z = torch.randn(batch_size, n_noise).to(DEVICE)\n",
    "        z_outputs = D(G(z))\n",
    "        D_z_loss = criterion(z_outputs, D_fakes)\n",
    "        D_loss = D_x_loss + D_z_loss\n",
    "\n",
    "        D.zero_grad()\n",
    "        D_loss.backward()\n",
    "        D_opt.step()\n",
    "\n",
    "        if step % n_critic == 0:\n",
    "            # Training Generator\n",
    "            z = torch.randn(batch_size, n_noise).to(DEVICE)\n",
    "            z_outputs = D(G(z))\n",
    "            G_loss = criterion(z_outputs, D_labels)\n",
    "\n",
    "            G.zero_grad()\n",
    "            G_loss.backward()\n",
    "            G_opt.step()\n",
    "\n",
    "        if step % 500 == 0:\n",
    "            print('Epoch: {}/{}, Step: {}, D Loss: {}, G Loss: {}'.format(epoch, max_epoch, step, D_loss.item(), G_loss.item()))\n",
    "\n",
    "        if step % 1000 == 0:\n",
    "            G.eval()\n",
    "            # img = get_sample_image(G, n_noise)\n",
    "            img = get_sample_image_with_discriminator_discards(G, D, n_noise) # <-------- Better implementation - adds marks on idetified as fake\n",
    "            imsave('samples/{}_step{}.jpg'.format(MODEL_NAME, str(step).zfill(3)), img, cmap='gray')\n",
    "            G.train()\n",
    "        step += 1"
   ]
  },
  {
   "cell_type": "markdown",
   "metadata": {
    "id": "p7Ry5VWWaxVf"
   },
   "source": [
    "## Visualize Sample"
   ]
  },
  {
   "cell_type": "code",
   "execution_count": 49,
   "metadata": {
    "colab": {
     "base_uri": "https://localhost:8080/",
     "height": 452
    },
    "id": "TdJ8Lq_iaxVf",
    "outputId": "33a7770e-69ae-4c89-f193-5a476e70e419",
    "ExecuteTime": {
     "end_time": "2024-04-30T11:19:24.608948001Z",
     "start_time": "2024-04-30T11:19:24.518744852Z"
    }
   },
   "outputs": [
    {
     "data": {
      "text/plain": "<matplotlib.image.AxesImage at 0x76fe4c4c9820>"
     },
     "execution_count": 49,
     "metadata": {},
     "output_type": "execute_result"
    },
    {
     "data": {
      "text/plain": "<Figure size 640x480 with 1 Axes>",
      "image/png": "[encoded data removed]"
     },
     "metadata": {},
     "output_type": "display_data"
    }
   ],
   "source": [
    "# generation to image\n",
    "G.eval()\n",
    "imshow(get_sample_image(G, n_noise), cmap='gray')"
   ]
  },
  {
   "cell_type": "code",
   "execution_count": 50,
   "metadata": {
    "collapsed": true,
    "id": "-1GI8l_0axVg",
    "ExecuteTime": {
     "end_time": "2024-04-30T11:19:24.610638209Z",
     "start_time": "2024-04-30T11:19:24.608414834Z"
    }
   },
   "outputs": [],
   "source": [
    "# Saving params.\n",
    "# torch.save(D.state_dict(), 'D.pkl')\n",
    "# torch.save(G.state_dict(), 'G.pkl')"
   ]
  },
  {
   "cell_type": "markdown",
   "source": [
    "## Backup"
   ],
   "metadata": {
    "id": "3bPNGJN1cea-"
   }
  },
  {
   "cell_type": "code",
   "execution_count": 51,
   "metadata": {
    "collapsed": true,
    "id": "M3VesYN6axVg",
    "ExecuteTime": {
     "end_time": "2024-04-30T11:19:24.620288279Z",
     "start_time": "2024-04-30T11:19:24.610124960Z"
    }
   },
   "outputs": [],
   "source": [
    "# from google.colab import drive\n",
    "# drive.mount('/content/drive')"
   ]
  },
  {
   "cell_type": "code",
   "source": [
    "!pwd && ls"
   ],
   "metadata": {
    "colab": {
     "base_uri": "https://localhost:8080/"
    },
    "id": "dF45bzx3mdIA",
    "outputId": "923795fa-2082-4146-9924-c4ed1a81b16d",
    "ExecuteTime": {
     "end_time": "2024-04-30T11:19:24.829703830Z",
     "start_time": "2024-04-30T11:19:24.620968748Z"
    }
   },
   "execution_count": 52,
   "outputs": [
    {
     "name": "stdout",
     "output_type": "stream",
     "text": [
      "/home/andrzej/Downloads\r\n",
      " 03_Rozwiazywanie_ukadow_rownan_liniowych_metodami_iteracyjnymi.pdf\r\n",
      " 10.pdf\r\n",
      " 11-modul-younga-ps-2022-23.pdf\r\n",
      " 1651603254436.jpeg\r\n",
      " 2020-1termin2021egz.pdf\r\n",
      "'2023-11-03 09-08-45.zip'\r\n",
      " _27334420BBCAC0003220230722114315_.pdf\r\n",
      " 28476\r\n",
      " 28476.tgz\r\n",
      " 3_2_oscy.png\r\n",
      " 419511531_928280472190713_4687945646184110726_n.jpg\r\n",
      " 63cfd412a2891b993881d791_goodsalary_10_rzeczy.pdf\r\n",
      " 65006757c5a4d.zip\r\n",
      " AGH-Deep-Learning-CUDA-main.zip\r\n",
      " agh.jpg\r\n",
      " AI_GRAPHICS\r\n",
      " algorithms-15-00043.pdf\r\n",
      " Anaconda3-2023.07-2-Linux-x86_64.sh\r\n",
      " AndrzejSwietek_1popr_1.pdf\r\n",
      "'AndrzejSwietek_1popr (1).pdf'\r\n",
      " AndrzejSwietek_1popr.pdf\r\n",
      " AndrzejSwietek_2IB1_10_Polecenia_sieciowe.pdf\r\n",
      " AndrzejSwietek_IS_MN_00.pdf\r\n",
      "'aneks Andrzej.pdf'\r\n",
      " Biesaga_Bartosz_DL_report5_notebook.ipynb\r\n",
      " Biesaga_Bartosz_DL_report5.pdf\r\n",
      " bunjs.jpg\r\n",
      "'Cheat Sheet (Elysia by example) - ElysiaJS _ ElysiaJS.pdf'\r\n",
      " Ciechanowski.pdf\r\n",
      " class_vanilla_GAN_linear_ANN.ipynb\r\n",
      " class_vanilla_GAN_linear_ANN_REPORT.ipynb\r\n",
      " cnijfilter-ip4500series-2.80-1.i386.rpm\r\n",
      " coderspeak-crm-27bcae920a92.zip\r\n",
      " coderspeak-crm-3092511234f8.zip\r\n",
      " coderspeak-mindshare-4df75f929c70.zip\r\n",
      " coderspeak-mindshare-a99ed799bf77.zip\r\n",
      " cpp05_2.pdf\r\n",
      " cpp10.tgz\r\n",
      " cpp_examples\r\n",
      " CUDA_02\r\n",
      " CUDA_5\r\n",
      "'Część 2.ics'\r\n",
      " discord-0.0.51.deb\r\n",
      " discord-0.0.52.deb\r\n",
      " dlwcu_s24.4a.pdf\r\n",
      " dlwcu_s24.5b.pdf\r\n",
      " Elektromagnetyzm-2024.pdf\r\n",
      "'EMO06 Optyka geometryczna.pdf'\r\n",
      " FoDS_Lectures\r\n",
      "'github-recovery-codes (1).txt'\r\n",
      " google-chrome-stable_current_amd64.deb\r\n",
      " GRAFIKA_lab5.zip\r\n",
      " IMG20240226133703.jpg\r\n",
      " intro2pytorch_tensors_gpu-info_S24.ipynb\r\n",
      "'Introduction_to_Algorithms_Third_Edition_(2009).pdf'\r\n",
      " iP4500_debian.tar\r\n",
      " IS1z2cw01spr.pdf\r\n",
      " IS1z2cw11wyn.ods\r\n",
      " IS1z2cw32spr_ATM.pdf\r\n",
      " IS1z2ćw45spr_ATM.pdf\r\n",
      "'Jam bez nazwy (1).pdf'\r\n",
      "'Jam_bez_nazwy (1).pdf'\r\n",
      "'Jam bez nazwy.pdf'\r\n",
      " Jam_bez_nazwy.pdf\r\n",
      " janowski_11.pdf\r\n",
      " jetbrains-toolbox-1.27.2.13801\r\n",
      " Kabelki.pdf\r\n",
      " kable_wzmacniacze.ods\r\n",
      " komentarze_kable_2.png\r\n",
      " komentarze_kable.png\r\n",
      "'kurs ML1.zip'\r\n",
      "'kurs ML2.zip'\r\n",
      " lab01.ipynb\r\n",
      " lab05.zip\r\n",
      " Lab_Fizyka_0.docx\r\n",
      " Lab_Fizyka_0.docx.pdf\r\n",
      " Lab_Fizyka_0.pdf\r\n",
      "'laby_fiza (1).pdf'\r\n",
      "'laby_fiza (4).pdf'\r\n",
      " laby_fiza.pdf\r\n",
      " logs-20240429T225532Z-001.zip\r\n",
      " lu_tri.pdf\r\n",
      " Maciej_Brocki_DeepLearning_04.ipynb\r\n",
      " magnetyzm.pdf\r\n",
      " main.tex\r\n",
      " Marcin_Zepp_lab03_report.ipynb\r\n",
      " Marcin_Zepp_lab04_report.ipynb\r\n",
      " matlab_R2023a_glnxa64\r\n",
      " message.cpp\r\n",
      " message.txt\r\n",
      "'Middle Earth Map.rar'\r\n",
      " MN_00.tex\r\n",
      " model.pth\r\n",
      " network_initialisation_sim_S24.ipynb\r\n",
      "'Numerki (1).pdf'\r\n",
      " Numerki.pdf\r\n",
      " NVIDIA-Linux-x86_64-418.43.run\r\n",
      " NVIDIA-Linux-x86_64-535.129.03.run\r\n",
      " obwody.pdf\r\n",
      " Odpowiedzi-FIZYKA.pdf\r\n",
      " ogloszenie.docx\r\n",
      " OneDrive_1_3-13-2023.zip\r\n",
      " OneDrive_1_4-23-2024.zip\r\n",
      " OneDrive_1_4-28-2024.zip\r\n",
      " OpAmps_3.pdf\r\n",
      "'Opracowanie zagadnień na egzamin 2021.pdf'\r\n",
      " pomiary.pdf\r\n",
      " Presentation_A01.zip\r\n",
      " przyklady_cpp\r\n",
      " pysp\r\n",
      " recovery_codes\r\n",
      " regresja.zip\r\n",
      "'Rejestracja na przedmioty Bloku Innowacyjnego UBPO - USOSweb_files'\r\n",
      " report_05_Kamil_Milewski.ipynb\r\n",
      "'Resnick, Halliday - Podstawy Fizyki 1.pdf'\r\n",
      "'ROTARY_Seminarium TRF Kielce 30.09.2023'\r\n",
      " Rowniania-rozniczkowe-Irzad.pdf\r\n",
      " RTS_1.pdf\r\n",
      " samples\r\n",
      " shallow_NN_pytorch_S24v1.ipynb\r\n",
      " shallow_NN_pytorch_S24v2.ipynb\r\n",
      " ShopProjectSpring-master.zip\r\n",
      " slider_1-main.zip\r\n",
      " sprawko3.pdf\r\n",
      " spz.pdf\r\n",
      " Tela-1080p\r\n",
      " Tela-1080p.tar.xz\r\n",
      " ToIS_notatki_cw2019.pdf\r\n",
      "'UkladyElektroniczne_01 (1).pdf'\r\n",
      " UkladyElektroniczne_01.pdf\r\n",
      " vanilla-GAN-batch_128_step7000.jpg\r\n",
      " Vector-Field-Modelling-master\r\n",
      " wiet_14_2_11_v1-konopka-waga-o.pdf\r\n",
      " wspolczynniki.zip\r\n",
      " wxWidgets-3.2.4.tar.bz2\r\n",
      " wyk8_liniowe.pdf\r\n",
      "'wyklad 09.pdf'\r\n",
      " wyklad_15.pdf\r\n",
      " Wyklad_4_tranzystory.pdf\r\n",
      " Wyklad-5.pdf\r\n",
      " wyklady_FODS.zip\r\n",
      " Wzmacniacze_operacyjne.pdf\r\n",
      " x86_Instruction_Set_Architecture-2023-08-03_14_15_37.pdf\r\n",
      " yubico-authenticator-6.3.0-linux\r\n",
      " yubico-authenticator-6.3.0-linux.tar.gz\r\n"
     ]
    }
   ]
  },
  {
   "cell_type": "code",
   "source": [
    "# ! cp samples/vanilla-GAN-100-epoch-symetric_step15000.jpg /content/drive/MyDrive/Deep_Learning_with_CUDA/Lab05/logs/\n",
    "# ! cp samples/vanilla-GAN-100-epoch-symetric_step35000.jpg /content/drive/MyDrive/Deep_Learning_with_CUDA/Lab05/logs/\n",
    "# ! cp samples/vanilla-GAN-100-epoch-symetric_step65000.jpg /content/drive/MyDrive/Deep_Learning_with_CUDA/Lab05/logs/\n",
    "# ! cp samples/vanilla-GAN-100-epoch-symetric_step93000.jpg /content/drive/MyDrive/Deep_Learning_with_CUDA/Lab05/logs/"
   ],
   "metadata": {
    "id": "JatUdvqsciKD",
    "ExecuteTime": {
     "end_time": "2024-04-30T11:19:24.848609088Z",
     "start_time": "2024-04-30T11:19:24.833900024Z"
    }
   },
   "execution_count": 53,
   "outputs": []
  },
  {
   "cell_type": "code",
   "source": [
    "# ! cp samples/vanilla-GAN-100-epoch-symetric_step75000.jpg /content/drive/MyDrive/Deep_Learning_with_CUDA/Lab05/logs/"
   ],
   "metadata": {
    "id": "287UBIuvBTXE",
    "ExecuteTime": {
     "end_time": "2024-04-30T11:19:24.871480182Z",
     "start_time": "2024-04-30T11:19:24.843178228Z"
    }
   },
   "execution_count": 54,
   "outputs": []
  },
  {
   "cell_type": "markdown",
   "source": [
    "## Fréchet Inception Distance (FID)\n",
    "\n",
    "\n",
    "Fréchet Inception Distance (FID) is a metric used to measure the similarity between two sets of images. It's particularly popular in the field of generative adversarial networks (GANs), where it's used to evaluate the quality of generated images compared to real ones.\n",
    "\n",
    "\n",
    "1. Fréchet Distance: The Fréchet distance is a measure of similarity between two probability distributions in a metric space. In the context of FID, these distributions represent the feature vectors of real and generated images.\n",
    "2. Inception Network Features: To compute FID, you first need to extract features from both real and generated images. Typically, you use a pre-trained Inception network, a convolutional neural network (CNN) originally trained for image classification tasks. The activations of one of the intermediate layers of this network serve as feature representations of the images.\n",
    "3. Mean and Covariance: Once you have the feature representations of the real and generated images, you compute the mean and covariance matrix for each set of features.\n",
    "4. Fréchet Distance Calculation: With the mean and covariance of both sets of features computed, you calculate the Fréchet distance between these multivariate Gaussian distributions. The formula for Fréchet distance involves the Euclidean distance between the mean vectors and the trace of the sum of the covariance matrices, along with some matrix operations.\n",
    "5. FID Score: The final FID score is obtained by computing the Fréchet distance between the two distributions of features.\n",
    "\n",
    "In summary, FID quantifies how similar the feature distributions of real and generated images are. A lower FID score indicates better similarity and thus better image quality in terms of visual realism and diversity.\n",
    "\n",
    "\n"
   ],
   "metadata": {
    "id": "gMYx6aFNghr9"
   }
  },
  {
   "cell_type": "markdown",
   "source": [
    "## Summary"
   ],
   "metadata": {
    "id": "sIOCGD_3uoEr"
   }
  },
  {
   "cell_type": "markdown",
   "source": [
    "### Difrent Batch Sizes results for 32, 64, 128\n",
    "\n",
    "<br/>\n",
    "<center>\n",
    "  <h2> Batch Size = 128 | step 7000 </h2>\n",
    "  <br/>\n",
    "  <img src=\"https://lh3.googleusercontent.com/drive-viewer/AKGpihYYiDg1IF5rRZJjRCbFavYt9svSSwI0HLya7YLhc9so2795f_j5J-lseVH3GDB7b0hmwk3azZ_KaiF5tUEr-lOz0ZXgrE6woAY=s2560\" />\n",
    "  <p> Plenty of noise around. It's hard even for human to determin what number was generated\n",
    "  </p>\n",
    "\n",
    "  ___\n",
    "</center>\n",
    "\n",
    "<center>\n",
    "  <h2> Batch Size = 64 | step 14000 </h2>\n",
    "  </br>\n",
    "  <img src=\"https://lh3.googleusercontent.com/drive-viewer/AKGpihZEJzludBep589_4yqB8Dl9KMhlqcEJg9-J4fozaUigSLzm-6DZYUqHaClyb2grhbSbdXnBNKnw9sNcq0Av647_e8i_P2o8tVI=s2560\" />\n",
    "  <p> Noise is present but not as much as for batch size = 128. Numbers are more readable  \n",
    "  </p>\n",
    "  \n",
    "  ____\n",
    "</center>\n",
    "\n",
    "<center>\n",
    "  <h2> Batch Size = 32 | step 28000 </h2>\n",
    "  </br>\n",
    "  <img src=\"https://lh3.googleusercontent.com/drive-viewer/AKGpihZ5Iic8owAU7EocYP26GFjIMV9FgGhpQreZZNOVj42fYMv4w9YvUoHw5AIwSST-6iQVvrNbrdBTnmd8y8e9PvMGrvsDOXFPn4A=s2560\" />\n",
    "  <p> Whereas noise is almost not present actual numbers seem to be less readable than for bs = 64 - probably few more epochs would do well for it\n",
    "  </p>\n",
    "</center>\n"
   ],
   "metadata": {
    "id": "M1-ayEgUur7p"
   }
  },
  {
   "cell_type": "markdown",
   "source": [
    "### Change in Generator performance\n",
    "\n",
    "Change in generator performance can determined visually in 2 simple ways:\n",
    "- Numbers look more real\n",
    "- Descriptor has problems with finding fake one <-- generator goal\n",
    "\n",
    "\n",
    "___\n",
    "- Black regions in the generated images can be interpreted as areas where the generator has successfully generated content that the discriminator does not recognize as fake.\n",
    "\n",
    "- White regions in the generated images can be interpreted as areas where the discriminator has confidently recognized the content as fake.\n",
    "\n",
    "<table style=\"border-collapse: collapse; width: 100%;\">\n",
    "  <tr>\n",
    "    <td style=\"padding: 10px;\">\n",
    "      <p> Batch Size 64 - Step 2000 </p>\n",
    "      <img src=\"https://lh3.googleusercontent.com/drive-viewer/AKGpiha1_a4esTNRzeEJB2jHELJWAwBi_rS8dFtH7S16oK8OdfjwXTZFJcGAHplPlPDqMZtGwfUy8DZz56qIAT3lbM21tzvdu22pNQ=s2560\" style=\"max-width: 300px;\"/>\n",
    "    </td>\n",
    "    <td style=\"padding: 10px;\">\n",
    "      <p> Batch Size 64 - Step 9000 </p>\n",
    "      <img src=\"https://lh3.googleusercontent.com/drive-viewer/AKGpihZegnTfZkt4ehnbg72gpv7LNLcFliZ6BeZVTE3PwkVQ2sg39k3glMKPtP37bdVIFlGFTfxCXndl-UG128BRXuLZF6Hyk2BRlg=s2560\" style=\"max-width: 300px;\"/>\n",
    "    </td>\n",
    "    <td style=\"padding: 10px;\">\n",
    "      <p> Batch Size 64 - Step 14000 </p>\n",
    "      <img src=\"https://lh3.googleusercontent.com/drive-viewer/AKGpihaxNg_oT6CaGZSvYL0wIOYNQULTeBkdTZWlgVcsI49ygZMKgvODvjLEryzwxGG5b4ZQ1NRt8E9hAQiRIXcu0hwHScT2wx6Q8OQ=s2560\" style=\"max-width: 300px;\"/>\n",
    "    </td>\n",
    "  </tr>\n",
    "</table>\n",
    "\n",
    "There is no easy way to determine if after 14k steps generator will be able to produce output significantly better that discriminator cannot recognize as fake.\n",
    "\n",
    "For few steps in the very begining (2k) Generator is visibly ahead of discriminator however that is to change later one at steps aroung 9k ( in the middle - ish ) where discriminator is capable of finding many fakes ( ~30% ). After another couple steps G models is capable of generating even better images of hand written images that only few can be recognized as fake.\n",
    "\n",
    "It is worth noticing that in the very begining of training process G model was generating lots of noice - which is not good obvoiusly - but whats worse is that D model wan incapable of finding that tendency - only after couple thousands of iterations it starts to do so."
   ],
   "metadata": {
    "id": "Qa2lGym-yTpd"
   }
  },
  {
   "cell_type": "markdown",
   "source": [
    "## 100 Epochs - Symetric\n",
    "For this task I'd like to focus on how generated images progress throughout training process.\n",
    "\n",
    "- Batch size = 64\n",
    "- symetric\n",
    "\n",
    "<table style=\"border-collapse: collapse; width: 100%;\">\n",
    "  <tr>\n",
    "    <td style=\"padding: 10px;\">\n",
    "      <p> Batch Size 64 - Step 15k </p>\n",
    "      <img src=\"https://lh3.googleusercontent.com/drive-viewer/AKGpihYb95-SJ2GlRkB91LELg4_T1GxCfRx0fzuRbpSKTsH_GLHITUN1xScU1GPy7FV7YoWx-Mp7zD0-b0mPSFJb77GQo1icTTksrSk=s2560\" style=\"max-width: 300px;\"/>\n",
    "    </td>\n",
    "    <td style=\"padding: 10px;\">\n",
    "      <p> Batch Size 64 - Step 35k </p>\n",
    "      <img src=\"https://lh3.googleusercontent.com/drive-viewer/AKGpihYa9VGBiYM9UMaHRklIStUU0zPxE5XfqzCJpIueVGY_YuprX1Xnoxf06MOEz36jd4gL-c4g9Ewe86yFgQKCA7I7KD-Q0NzSxg=s2560\" style=\"max-width: 300px;\"/>\n",
    "    </td>\n",
    "    <td style=\"padding: 10px;\">\n",
    "      <p> Batch Size 64 - Step 65k </p>\n",
    "      <img src=\"https://lh3.googleusercontent.com/drive-viewer/AKGpihbHh5B5G3vfh93W-c_zhKVhuslhJyyHZ23MTeyU94MlN8grWJus6SiwMcU57m-Avy8HAVSSuMj9xcLO02zPynGXUgOAGoQbE-M=s2560\" style=\"max-width: 300px;\"/>\n",
    "    </td>\n",
    "  </tr>\n",
    "</table>\n",
    "<table style=\"border-collapse: collapse; width: 100%;\">\n",
    "  <tr>\n",
    "    <td style=\"padding: 10px;\">\n",
    "      <p> Batch Size 64 - Step 75k </p>\n",
    "      <img src=\"https://lh3.googleusercontent.com/drive-viewer/AKGpihY9mcFqn6ql6xkhj_F0GqJr0Ou4l3Sa4WAoXFIiCKtUc11O64tTNbc_jPZcZETJyfW1vHLaQQ2L9hbwSQ6JGAxZXbh4RnKTmX8=s2560\" style=\"max-width: 300px;\"/>\n",
    "    </td>\n",
    "    <td style=\"padding: 10px;\">\n",
    "      <p> Batch Size 64 - Step 93k </p>\n",
    "      <img src=\"https://lh3.googleusercontent.com/drive-viewer/AKGpihbRe74W5kVG3tjOmBMgpa5sPKZ6qpjjcEO-Dx2H1ZW1uDnFdatjw0WrPPp86X-Zsirj-QQI1kzXpxFiqAiVJ4cIeC4Ohs5nJg=s2560\" style=\"max-width: 300px;\"/>\n",
    "    </td>\n",
    "  </tr>\n",
    "</table>\n"
   ],
   "metadata": {
    "id": "3orbxSaKBvcL"
   }
  },
  {
   "cell_type": "markdown",
   "source": [
    "## 100 Epoch - Asymmetric D lr > G lr\n",
    "\n",
    "<table style=\"border-collapse: collapse; width: 100%;\">\n",
    "  <tr>\n",
    "    <td style=\"padding: 10px;\">\n",
    "      <p> Batch Size 64 - Step 15k </p>\n",
    "      <img src=\"https://lh3.googleusercontent.com/drive-viewer/AKGpihYu8Mjl9lDU3AMaoCNtFOa8sOyeWjMlph-kBHB4RkxmDP_PMG74LjQwkYY4khUEbmrtO93pzZt0hLU2YZ9mUZPK_FZiSRzeOw=s2560\" style=\"max-width: 300px;\"/>\n",
    "    </td>\n",
    "    <td style=\"padding: 10px;\">\n",
    "      <p> Batch Size 64 - Step 35k </p>\n",
    "      <img src=\"https://lh3.googleusercontent.com/drive-viewer/AKGpihYkqh2UM1NWJSWgEUffQmv7Z_rM5GXobRTpyW5ChRZzd1684bJyB2eYd75bLsHYzTEN8peSm4EBlMOvTUSGF8bp3nTEgeR7Xro=s2560\" style=\"max-width: 300px;\"/>\n",
    "    </td>\n",
    "    <td style=\"padding: 10px;\">\n",
    "      <p> Batch Size 64 - Step 65k </p>\n",
    "      <img src=\"https://lh3.googleusercontent.com/drive-viewer/AKGpihZz7SsEcQ5Suq7cxkvMcyxrQp7BFV1WaFsS8g8dmWFasAafoQ7IViJQS9JakKxEx3bh44NRWVO865IgJau7Q-xk7-tNnYSh3Ps=s2560\" style=\"max-width: 300px;\"/>\n",
    "    </td>\n",
    "  </tr>\n",
    "</table>\n",
    "<table style=\"border-collapse: collapse; width: 100%;\">\n",
    "  <tr>\n",
    "    <td style=\"padding: 10px;\">\n",
    "      <p> Batch Size 64 - Step 75k </p>\n",
    "      <img src=\"https://lh3.googleusercontent.com/drive-viewer/AKGpihaBHmwcxWnCJrmg_tPto33BvtEkvTjIDuwWb1QQOuK9dsCKAn2nVBQh0RWqR7PG1tFEMNTX6sVmUxTK5jGDqJEzylqKWbJieA=s2560\" style=\"max-width: 300px;\"/>\n",
    "    </td>\n",
    "    <td style=\"padding: 10px;\">\n",
    "      <p> Batch Size 64 - Step 93k </p>\n",
    "      <img src=\"https://lh3.googleusercontent.com/drive-viewer/AKGpihaOIf45gXiAiVm-Lkvd5WY7VJhq5ib4PrdoWJ21OlMpItfgG6nlkF6XrJKiF9st7ytPQ7pXgb9wvor3FOVpbBVbZNlbEFh9Zos=s2560\" style=\"max-width: 300px;\"/>\n",
    "    </td>\n",
    "  </tr>\n",
    "</table>"
   ],
   "metadata": {
    "collapsed": false
   }
  },
  {
   "cell_type": "markdown",
   "source": [
    "## Asymmetric D lr < G lr\n",
    "\n",
    "<table style=\"border-collapse: collapse; width: 100%;\">\n",
    "  <tr>\n",
    "    <td style=\"padding: 10px;\">\n",
    "      <p> Batch Size 64 - Step 15k </p>\n",
    "      <img src=\"https://lh3.googleusercontent.com/drive-viewer/AKGpihaqgZZ270AZ30UFBThDwB2Ti7ULne96u6L-J3lm_DYYxoDaYT1pM07H3jhJkDxe8sNbpAkhf1rv8Zlbg0dq9kcrLu5KP76HpA=s2560\" style=\"max-width: 300px;\"/>\n",
    "    </td>\n",
    "    <td style=\"padding: 10px;\">\n",
    "      <p> Batch Size 64 - Step 35k </p>\n",
    "      <img src=\"https://lh3.googleusercontent.com/drive-viewer/AKGpihalHLsyKAV1oUgY5MN2AXs6bDM9qFyfhkfO7X1arkiMx7iGu-_b8ufzu4fJdwPIkct4x6wEi-7gKsUHV_Yqgp2K-lWZ063fXQ=s2560\" style=\"max-width: 300px;\"/>\n",
    "    </td>\n",
    "    <td style=\"padding: 10px;\">\n",
    "      <p> Batch Size 64 - Step 65k </p>\n",
    "      <img src=\"https://lh3.googleusercontent.com/drive-viewer/AKGpihbSiwdT0U1dLkpV3vMRnAkbHRl_uRSDfaBmwpjy4iy9FykN2uYcmHa3O0kxPcyUqprHOMTbx8tjok0Biqg2bhhf9WKMeiqZvA=s2560\" style=\"max-width: 300px;\"/>\n",
    "    </td>\n",
    "  </tr>\n",
    "</table>\n",
    "<table style=\"border-collapse: collapse; width: 100%;\">\n",
    "  <tr>\n",
    "    <td style=\"padding: 10px;\">\n",
    "      <p> Batch Size 64 - Step 75k </p>\n",
    "      <img src=\"https://lh3.googleusercontent.com/drive-viewer/AKGpiha1c2q6B3ETwco0a7R8EvFcZj9PYW9SeaDj7XL8aCMRwY93u_Qs7F4D2VgCEMEpohIYcn9t6AhV0-FaJAktQFyXhfjn6hgbS3c=s2560\" style=\"max-width: 300px;\"/>\n",
    "    </td>\n",
    "    <td style=\"padding: 10px;\">\n",
    "      <p> Batch Size 64 - Step 93k </p>\n",
    "      <img src=\"https://lh3.googleusercontent.com/drive-viewer/AKGpihbL4B6AersmnfhIdg357PMmqHQJic-OmzXI-srfVigQuGA70esjsAWfxTdQw5RJmyX_CYVyDq5UZMvTwo7cuUwYq8XWQMsldus=s2560\" style=\"max-width: 300px;\"/>\n",
    "    </td>\n",
    "  </tr>\n",
    "</table>"
   ],
   "metadata": {
    "collapsed": false
   }
  },
  {
   "cell_type": "markdown",
   "source": [
    "## Symmetric D & G models Losses\n",
    "\n",
    "<a href=\"https://lh3.googleusercontent.com/drive-viewer/AKGpihY_3XMqr7_A7WPfhd-YLrcNdji2SssHZ-KH7fA5cYB8v4dLjjZR-R1kiLP7CK-bXpRki4b9NtyyBwuqBtMAIARerOZP-s0vcw=s1600-rw-v1?source=screenshot.guru\"> \n",
    "<img style=\"max-width: 400px;\" src=\"./symmetric_100_loss.png\" /> \n",
    "</a>\n",
    "\n"
   ],
   "metadata": {
    "collapsed": false
   }
  },
  {
   "cell_type": "markdown",
   "source": [
    "## Asymmetric Loss D > G\n",
    "\n",
    "<a href=\"https://lh3.googleusercontent.com/drive-viewer/AKGpihY_3XMqr7_A7WPfhd-YLrcNdji2SssHZ-KH7fA5cYB8v4dLjjZR-R1kiLP7CK-bXpRki4b9NtyyBwuqBtMAIARerOZP-s0vcw=s1600-rw-v1?source=screenshot.guru\"> \n",
    "<img style=\"max-width: 400px;\" src=\"./asymmetric_100_loss_d>g.png\" /> \n",
    "</a>"
   ],
   "metadata": {
    "collapsed": false
   }
  },
  {
   "cell_type": "markdown",
   "source": [
    "## Asymmetric Loss D < G\n",
    "\n",
    "<a href=\"https://lh3.googleusercontent.com/drive-viewer/AKGpihY_3XMqr7_A7WPfhd-YLrcNdji2SssHZ-KH7fA5cYB8v4dLjjZR-R1kiLP7CK-bXpRki4b9NtyyBwuqBtMAIARerOZP-s0vcw=s1600-rw-v1?source=screenshot.guru\"> \n",
    "<img style=\"max-width: 400px;\" src=\"./asymmetric_100_loss_d<g.png\" /> \n",
    "</a>"
   ],
   "metadata": {
    "collapsed": false
   }
  },
  {
   "cell_type": "markdown",
   "source": [
    "## Summary\n",
    "\n",
    "After testing various configurations for training a GAN system on handwritten digit datasets, several conclusions can be drawn to optimize the model's performance.\n",
    "\n",
    "Firstly, among the tested batch sizes, 64 emerges as the optimal choice. It allows for relatively quick training while still yielding results that are only marginally inferior to those achieved with a batch size of 32.\n",
    "\n",
    "Introducing asymmetric training strategies reveals that increasing the learning rate of the discriminator proves more effective than boosting the generator's learning rate. However, the improvement in results compared to symmetric training is not substantial.\n",
    "\n",
    "While enhancing the complexity of the generator may offer potential benefits, it's advisable not to overcomplicate it, as observed in this study. Striking a balance between complexity and efficiency is crucial for achieving satisfactory results.\n",
    "\n",
    "A consistent observation across all experiments is the occurrence of suboptimal decisions by the discriminator. Therefore, it's worthwhile to explore increasing the frequency of discriminator training iterations relative to the generator. This approach aims to equip the discriminator with better discriminatory abilities, potentially leading to improved image selection during training.\n",
    "\n",
    "In summary, optimizing the batch size, experimenting with asymmetric training strategies, and carefully calibrating the complexity of the generator are key considerations in developing an effective GAN system for handwritten digit datasets. Moreover, enhancing the discriminator's training frequency may further enhance the model's performance by refining its ability to distinguish between real and generated images."
   ],
   "metadata": {
    "id": "t6UngrdD4vnI"
   }
  },
  {
   "cell_type": "code",
   "execution_count": null,
   "outputs": [],
   "source": [],
   "metadata": {
    "collapsed": false
   }
  }
 ],
 "metadata": {
  "kernelspec": {
   "name": "python3",
   "language": "python",
   "display_name": "Python 3 (ipykernel)"
  },
  "language_info": {
   "codemirror_mode": {
    "name": "ipython",
    "version": 3
   },
   "file_extension": ".py",
   "mimetype": "text/x-python",
   "name": "python",
   "nbconvert_exporter": "python",
   "pygments_lexer": "ipython3",
   "version": "3.6.3"
  },
  "colab": {
   "provenance": [],
   "gpuType": "T4"
  },
  "accelerator": "GPU"
 },
 "nbformat": 4,
 "nbformat_minor": 0
}
